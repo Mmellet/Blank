{
 "cells": [
  {
   "cell_type": "markdown",
   "id": "d6dce6c9",
   "metadata": {},
   "source": [
    "# Les références qui nous lient : Atelier pour constituer des réseaux de connaissances à partir d'une bibliothèque Zotero \n",
    "\n",
    "----------\n",
    "\n",
    "Atelier du *Comparative Materialities: Media, Literature, Theory Research Group*| *Groupe de recherche matérialités comparatives : Médias, littérature et théorie*\n",
    "\n",
    "Date : 22 Février - 9h30 (HNE) \n",
    "Lien : https://meet.jit.si/CCLA2022-AtelierCRCEN \n",
    "\n",
    "Bibliographie Zotero : https://www.zotero.org/groups/4592469/ccla-atelier/library\n",
    "\n",
    "--------------"
   ]
  },
  {
   "cell_type": "markdown",
   "id": "8d4a1964",
   "metadata": {},
   "source": [
    "\n",
    "Documentation : \n",
    "- [pyzotero Library](https://pyzotero.readthedocs.io/en/latest/)\n",
    "- [Zotero JavaScript API](https://www.zotero.org/support/dev/client_coding/javascript_api)\n",
    "- [graphviz Library](https://graphviz.org/Gallery/)\n",
    "- [Counter Library](https://stackabuse.com/introduction-to-pythons-collections-module/#thecounter)\n"
   ]
  },
  {
   "cell_type": "markdown",
   "id": "d68165a2",
   "metadata": {},
   "source": [
    "## Graph ta recherche \n",
    "\n",
    "Le but du code python est de pouvoir visualiser à partir des informations de notre bibliothèque zotero des réseaux de connaissances : \n",
    "\n",
    "    - entre les références entre elles \n",
    "    - entre les références et les chercheur.e.s \n",
    "    - entre les chercheur.e.s \n",
    "    \n",
    "   "
   ]
  },
  {
   "cell_type": "markdown",
   "id": "dbf6e9d9",
   "metadata": {},
   "source": [
    "### Importer les données avec PyZotero\n",
    "\n",
    "Le premier besoin est d'aller *fetcher* les informations contenues dans notre bibliographie. \n",
    "\n",
    "Pour ce faire, plusieurs composants permettent de le faire, dont la solution [pyzotero](https://pyzotero.readthedocs.io/en/latest/#) qui est un *wrapper* de l'API Zotero(v3)"
   ]
  },
  {
   "cell_type": "code",
   "execution_count": 1,
   "id": "31957ae5",
   "metadata": {},
   "outputs": [
    {
     "name": "stdout",
     "output_type": "stream",
     "text": [
      "[{'key': '6PJ6UTZC', 'version': 7, 'library': {'type': 'group', 'id': 4592469, 'name': 'CCLA-atelier', 'links': {'alternate': {'href': 'https://www.zotero.org/groups/ccla-atelier', 'type': 'text/html'}}}, 'links': {'self': {'href': 'https://api.zotero.org/groups/4592469/items/6PJ6UTZC', 'type': 'application/json'}, 'alternate': {'href': 'https://www.zotero.org/groups/ccla-atelier/items/6PJ6UTZC', 'type': 'text/html'}}, 'meta': {'createdByUser': {'id': 4362402, 'username': 'margotmellet', 'name': '', 'links': {'alternate': {'href': 'https://www.zotero.org/margotmellet', 'type': 'text/html'}}}, 'creatorSummary': 'Vitali-Rosati and Larrue', 'parsedDate': '2019', 'numChildren': 1}, 'data': {'key': '6PJ6UTZC', 'version': 7, 'itemType': 'book', 'title': 'Media do not exist', 'creators': [{'creatorType': 'author', 'firstName': 'Marcello', 'lastName': 'Vitali-Rosati'}, {'creatorType': 'author', 'firstName': 'Jean-Marc', 'lastName': 'Larrue'}], 'abstractNote': 'Media Do Not Exist: Performativity and Mediating Conjunctures by Jean-Marc Larrue and Marcello Vitali-Rosati offers a radically new approach to the phenomenon of mediation, proposing a new understanding that challenges the very notion of medium. It begins with a historical overview of recent developments in Western thought on mediation, especially since the mid 80s and the emergence of the disciplines of media archaeology and intermediality. While these developments are inseparable from the advent of digital technology, they have a long history. The authors trace the roots of this thought back to the dawn of philosophy. \\n\\nHumans interact with their environment – which includes other humans – not through media, but rather through a series of continually evolving mediations, which Larrue and Vitali-Rosati call ‘mediating conjunctures’. This observation leads them to the paradoxical argument that ‘media do not exist’. Existing theories of mediation processes remain largely influenced by a traditional understanding of media as relatively stable entities. Media Do Not Exist demonstrates the limits of this conception. The dynamics relating to mediation are the product not of a single medium, but rather of a series of mediating conjunctures. They are created by ceaselessly shifting events and interactions, blending the human and the non-human, energy, and matter.', 'series': 'Theory on Demand', 'seriesNumber': '', 'volume': '', 'numberOfVolumes': '', 'edition': '', 'place': 'Amsterdam', 'publisher': 'Institute of Network Cultures', 'date': '2019', 'numPages': '107', 'language': '', 'ISBN': '', 'shortTitle': '', 'url': 'https://papyrus.bib.umontreal.ca/xmlui/handle/1866/22937', 'accessDate': '', 'archive': '', 'archiveLocation': '', 'libraryCatalog': '', 'callNumber': '', 'rights': '', 'extra': '', 'tags': [{'tag': 'Circulation des contenus'}, {'tag': 'Conjonctures médiatrices'}, {'tag': 'Intermédialité'}, {'tag': 'Légitimation des contenus'}, {'tag': 'Médias'}, {'tag': 'Performativité'}, {'tag': 'Pratiques intermédiales'}, {'tag': 'Production des contenus'}], 'collections': [], 'relations': {'owl:sameAs': 'http://zotero.org/groups/322999/items/J7I9H4KU'}, 'dateAdded': '2022-02-10T16:24:02Z', 'dateModified': '2022-02-10T16:24:02Z'}}, {'key': '78T6S694', 'version': 16, 'library': {'type': 'group', 'id': 4592469, 'name': 'CCLA-atelier', 'links': {'alternate': {'href': 'https://www.zotero.org/groups/ccla-atelier', 'type': 'text/html'}}}, 'links': {'self': {'href': 'https://api.zotero.org/groups/4592469/items/78T6S694', 'type': 'application/json'}, 'alternate': {'href': 'https://www.zotero.org/groups/ccla-atelier/items/78T6S694', 'type': 'text/html'}}, 'meta': {'createdByUser': {'id': 4362402, 'username': 'margotmellet', 'name': '', 'links': {'alternate': {'href': 'https://www.zotero.org/margotmellet', 'type': 'text/html'}}}, 'creatorSummary': 'Sauret', 'parsedDate': '2018-12-14', 'numChildren': 1}, 'data': {'key': '78T6S694', 'version': 16, 'itemType': 'journalArticle', 'title': 'Design de la conversation scientifique : naissance d’un format éditorial', 'creators': [{'creatorType': 'author', 'firstName': 'Nicolas', 'lastName': 'Sauret'}], 'abstractNote': 'Cet article analyse le design d&#8217;un format &#233;ditorial exp&#233;rimental dont l&#8217;objectif est de r&#233;unir le r&#233;gime social de la conversation avec le r&#233;gime documentaire des connaissances. Pens&#233; comme un nouvel objet de communication scientifique &#224; impl&#233;menter au sein de la revue Sens public, ce format conversationnel cherche &#224; r&#233;habiliter des pratiques d&#8217;&#233;crilecture en environnement num&#233;rique n&#233;es hors de l&#8217;institution acad&#233;mique. Sur la base des travaux de Louise Merzeau, nous dressons des pistes pour concevoir un dispositif d&#8217;&#233;ditorialisation conversationnel propice &#224; l&#8217;&#233;tablissement d&#8217;un espace commun de connaissances et engager une herm&#233;neutique collective.', 'publicationTitle': 'Sciences du Design', 'volume': 'n° 8', 'issue': '2', 'pages': '57-66', 'date': '2018-12-14', 'series': '', 'seriesTitle': '', 'seriesText': '', 'journalAbbreviation': '', 'language': 'fr', 'DOI': '', 'ISSN': '2428-3711', 'shortTitle': 'Design de la conversation scientifique', 'url': 'https://www.cairn.info/revue-sciences-du-design-2018-2-page-57.htm', 'accessDate': '2019-11-14T16:23:17Z', 'archive': '', 'archiveLocation': '', 'libraryCatalog': 'www.cairn.info', 'callNumber': '', 'rights': '', 'extra': '', 'tags': [{'tag': 'Conversation'}, {'tag': 'Edition'}, {'tag': 'Revue'}], 'collections': [], 'relations': {'owl:sameAs': 'http://zotero.org/groups/322999/items/3RJ9R8E9'}, 'dateAdded': '2022-02-10T16:23:42Z', 'dateModified': '2022-02-10T16:23:42Z'}}, {'key': 'IC3X2RSA', 'version': 17, 'library': {'type': 'group', 'id': 4592469, 'name': 'CCLA-atelier', 'links': {'alternate': {'href': 'https://www.zotero.org/groups/ccla-atelier', 'type': 'text/html'}}}, 'links': {'self': {'href': 'https://api.zotero.org/groups/4592469/items/IC3X2RSA', 'type': 'application/json'}, 'alternate': {'href': 'https://www.zotero.org/groups/ccla-atelier/items/IC3X2RSA', 'type': 'text/html'}}, 'meta': {'createdByUser': {'id': 4362402, 'username': 'margotmellet', 'name': '', 'links': {'alternate': {'href': 'https://www.zotero.org/margotmellet', 'type': 'text/html'}}}, 'creatorSummary': 'Monjour', 'parsedDate': '2016', 'numChildren': 1}, 'data': {'key': 'IC3X2RSA', 'version': 17, 'itemType': 'book', 'title': 'La littérature à l’ère photographique : mutations, novations, enjeux : de l’argentique au numérique', 'creators': [{'creatorType': 'author', 'firstName': 'Servanne', 'lastName': 'Monjour'}], 'abstractNote': \"Désormais, nous sommes tous photographes. Nos téléphones intelligents nous permettent de capter, de modifier et de partager nos clichés sur les réseaux en moins d’une minute, tant et si bien que l’image photographique est devenue une nouvelle forme de langage. Réciproquement, serions-nous également tous écrivains ? Il existe en effet une véritable légitimité historique à penser que la notion d'écrivain, comme celle de photographe, s'étend le long d'un paradigme allant de la « simple » possession d'une aptitude technique jusqu'à la gloire des plus fortes figures de la vie culturelle collective. Cette thèse vise à déterminer comment se constitue une nouvelle mythologie de l’image photographique à l’ère du numérique, comprenant aussi bien la réévaluation du médium argentique vieillissant que l’intégration d’un imaginaire propre à ces technologies dont nous n’avons pas encore achevé de mesurer l’impact culturel sur nos sociétés. À cet égard, la perspective littéraire est riche d’enseignements en termes culturels, esthétiques ou même ontologiques, puisque la littérature, en sa qualité de relais du fait photographique depuis près de deux siècles, a pleinement participé à son invention : c’est là du moins l’hypothèse de la photolittérature. En cette période de transition technologique majeure, il nous revient de cerner les nouvelles inventions littéraires de la photographie, pour comprendre aussi bien les enjeux contemporains du fait photographique que ceux de la littérature.\\nNowadays, we are all photographers. Our smart phones allow us to take, edit and share our snapshots on social media in less than a minute, to the extent that the photographic image has become a new form of language. Reciprocally, have we all become writers as well? There truly is historical legitimacy in seeing the notion of the writer, like that of the photographer, as spanning a paradigmal spectrum, running from “simple” possession of technical aptitude, to the glory of the loftiest figures in our collective cultural life. This thesis aims to determine how the new mythology around the photographic image takes shape in the digital age, while also re-evaluating the aging medium of film, as well as integrating a newly imagined sphere of ideas surrounding these new technologies, for which we have yet to measure the cultural impact on our societies. In this respect, a literary perspective is rich in cultural and even ontological lessons, since literature has interacted with photography for nearly two centuries, and thus contributed to its invention : this is at least the central hypothesis of photoliterature. In this period of major technological transition, we must therefore identify photography’s new literary inventions, so that we can better understand the contemporary issues surrounding both the worlds of photography and literature.\", 'series': '', 'seriesNumber': '', 'volume': '', 'numberOfVolumes': '', 'edition': '', 'place': 'Montréal', 'publisher': 'Université de Montréal et Université Rennes 2', 'date': '2016', 'numPages': '477', 'language': 'fr', 'ISBN': '', 'shortTitle': '', 'url': 'https://papyrus.bib.umontreal.ca/xmlui/handle/1866/13614', 'accessDate': '', 'archive': '', 'archiveLocation': '', 'libraryCatalog': '', 'callNumber': '', 'rights': '', 'extra': \"Thèse de doctorat réalisée en cotutelle au Département de littératures et de langues du monde de l'Université de Montréal et à l'école doctorale 506 de l'Université Rennes 2. Cette thèse a été dirigée par Catherine Mavrikakis et Jean-Pierre Montier.\", 'tags': [{'tag': 'Détournement'}, {'tag': 'Edition'}, {'tag': 'Imaginaire-réel'}, {'tag': 'Intermédialité'}, {'tag': 'Littérature'}, {'tag': 'Médias'}, {'tag': 'Performativité'}, {'tag': 'Pratiques intermédiales'}], 'collections': [], 'relations': {'owl:sameAs': 'http://zotero.org/groups/322999/items/TFBP29AP'}, 'dateAdded': '2022-02-10T16:23:12Z', 'dateModified': '2022-02-10T16:23:12Z'}}, {'key': '4TRGSXT8', 'version': 6, 'library': {'type': 'group', 'id': 4592469, 'name': 'CCLA-atelier', 'links': {'alternate': {'href': 'https://www.zotero.org/groups/ccla-atelier', 'type': 'text/html'}}}, 'links': {'self': {'href': 'https://api.zotero.org/groups/4592469/items/4TRGSXT8', 'type': 'application/json'}, 'alternate': {'href': 'https://www.zotero.org/groups/ccla-atelier/items/4TRGSXT8', 'type': 'text/html'}}, 'meta': {'createdByUser': {'id': 4362402, 'username': 'margotmellet', 'name': '', 'links': {'alternate': {'href': 'https://www.zotero.org/margotmellet', 'type': 'text/html'}}}, 'creatorSummary': 'Vitali-Rosati', 'parsedDate': '2014', 'numChildren': 0}, 'data': {'key': '4TRGSXT8', 'version': 6, 'itemType': 'book', 'title': 'Égarements. Amour, mort et identités numériques', 'creators': [{'creatorType': 'author', 'firstName': 'Marcello', 'lastName': 'Vitali-Rosati'}], 'abstractNote': 'Êtes-vous prêt à partir en voyage ? Une quête qui a pour but de répondre à une question qui d’universelle finit par sembler banale. Un voyage à la recherche de nos identités. Qui suis-je ? Ou plutôt: c’est quoi, moi ?\\n\\n\\nIci ni carte, ni plan. A l’écart des sentiers battus, il nous faudra naviguer jusqu’à l’égarement, à l’affût des traces que chacun laisse. L’égarement est la condition de possibilité de ce parcours. Sur ce chemin qui n’en est pas un, quelques étapes indispensables : l’amour, la mort. Comment contribuent-ils à produire notre identité ?\\n\\n\\nDe cet égarement en naîtra un second, en apparence bien plus dépaysant, celui qui nous mènera à parcourir l’espace virtuel engendré par nos existences numériques. C’est ici semble-t-il, entre profils, pseudonymes, avatars et traces numériques, que se joue aujourd’hui le jeu de l’identité.', 'series': 'Cultures Numériques', 'seriesNumber': '', 'volume': '', 'numberOfVolumes': '', 'edition': '', 'place': 'Paris', 'publisher': 'Hermann', 'date': '2014', 'numPages': '138', 'language': 'French', 'ISBN': '978-2-7056-8804-2 2-7056-8804-8', 'shortTitle': 'Égarements', 'url': 'https://papyrus.bib.umontreal.ca/xmlui/handle/1866/12982', 'accessDate': '', 'archive': '', 'archiveLocation': '', 'libraryCatalog': 'Open WorldCat', 'callNumber': '', 'rights': '', 'extra': '', 'tags': [{'tag': 'Imaginaire-réel'}, {'tag': 'Philosophie'}, {'tag': 'Privé / public'}, {'tag': 'Profils et identités numériques'}, {'tag': 'virtuel'}], 'collections': [], 'relations': {'owl:sameAs': 'http://zotero.org/groups/322999/items/RUJFRGQS'}, 'dateAdded': '2022-02-10T16:23:02Z', 'dateModified': '2022-02-10T16:23:02Z'}}, {'key': 'DXX59QKR', 'version': 13, 'library': {'type': 'group', 'id': 4592469, 'name': 'CCLA-atelier', 'links': {'alternate': {'href': 'https://www.zotero.org/groups/ccla-atelier', 'type': 'text/html'}}}, 'links': {'self': {'href': 'https://api.zotero.org/groups/4592469/items/DXX59QKR', 'type': 'application/json'}, 'alternate': {'href': 'https://www.zotero.org/groups/ccla-atelier/items/DXX59QKR', 'type': 'text/html'}}, 'meta': {'createdByUser': {'id': 4362402, 'username': 'margotmellet', 'name': '', 'links': {'alternate': {'href': 'https://www.zotero.org/margotmellet', 'type': 'text/html'}}}, 'creatorSummary': 'Fauchié', 'parsedDate': '2014', 'numChildren': 2}, 'data': {'key': 'DXX59QKR', 'version': 13, 'itemType': 'bookSection', 'title': 'Lire, écrire et partager en numérique', 'creators': [{'creatorType': 'editor', 'firstName': 'Catherine', 'lastName': 'Lenoble'}, {'creatorType': 'author', 'firstName': 'Antoine', 'lastName': 'Fauchié'}], 'abstractNote': '', 'bookTitle': 'Lire+écrire : un livre numérique sur l’édition,la lecture et l’écriture en réseau', 'series': '', 'seriesNumber': '', 'volume': '', 'numberOfVolumes': '', 'edition': '', 'place': 'Toulouse, France', 'publisher': 'Editions publie.net : Région Pays de la Loire', 'date': '2014', 'pages': '', 'language': 'français', 'ISBN': '978-2-8145-0778-4', 'shortTitle': '', 'url': '', 'accessDate': '', 'archive': '', 'archiveLocation': '', 'libraryCatalog': 'Library Catalog - www.sudoc.abes.fr', 'callNumber': '', 'rights': '', 'extra': '', 'tags': [{'tag': 'Edition'}, {'tag': 'Partage'}], 'collections': [], 'relations': {'owl:sameAs': 'http://zotero.org/groups/322999/items/UTHI38PI'}, 'dateAdded': '2022-02-10T14:28:06Z', 'dateModified': '2022-02-10T14:28:06Z'}}]\n"
     ]
    }
   ],
   "source": [
    "# J'importe tout d'abord la library pyzotero dans mon espace de code python : \n",
    "from pyzotero import zotero \n",
    "\n",
    "# Je donne ensuite les informations de la collection que je souhaite wrapper \n",
    "# (collection personnelle ou de groupe)\n",
    "# sous la forme zot = zotero.Zotero(library_id, library_type, api_key)\n",
    "\n",
    "bibliographie = zotero.Zotero(4592469, 'group', 'Ewb5yovHaWOXqDG2M9rAf2FP')\n",
    "\n",
    "# Dans cette bibliographie, je définis les items et donne le paramètre \"limit=5\", \n",
    "# pour lui dire d'aller me chercher les 5 premières références\n",
    "# en mettant \"limit=None\", j'affiche toutes les références \n",
    "items = bibliographie.top(limit=5)\n",
    "\n",
    "print(items)\n",
    "# si je veux seulement le premier item de ma bibliographie : print(item[0])"
   ]
  },
  {
   "cell_type": "markdown",
   "id": "b38c8a2a",
   "metadata": {},
   "source": [
    "Je vais maintenant aller *jouer* avec les informations de ma bibliographie pour sélectionner l'affichage mais également le type de données à afficher. "
   ]
  },
  {
   "cell_type": "code",
   "execution_count": 2,
   "id": "f3365456",
   "metadata": {},
   "outputs": [
    {
     "name": "stdout",
     "output_type": "stream",
     "text": [
      "<table>\n",
      "          <tr class=\"itemType\">\n",
      "            <th style=\"text-align: right;\">Type</th>\n",
      "            <td>Book</td>\n",
      "          </tr>\n",
      "          <tr class=\"creator\">\n",
      "            <th style=\"text-align: right;\">Author</th>\n",
      "            <td>Servanne Monjour</td>\n",
      "          </tr>\n",
      "          <tr class=\"url\">\n",
      "            <th style=\"text-align: right;\">URL</th>\n",
      "            <td>https://papyrus.bib.umontreal.ca/xmlui/handle/1866/13614</td>\n",
      "          </tr>\n",
      "          <tr class=\"place\">\n",
      "            <th style=\"text-align: right;\">Place</th>\n",
      "            <td>Montréal</td>\n",
      "          </tr>\n",
      "          <tr class=\"publisher\">\n",
      "            <th style=\"text-align: right;\">Publisher</th>\n",
      "            <td>Université de Montréal et Université Rennes 2</td>\n",
      "          </tr>\n",
      "          <tr class=\"date\">\n",
      "            <th style=\"text-align: right;\">Date</th>\n",
      "            <td>2016</td>\n",
      "          </tr>\n",
      "          <tr class=\"extra\">\n",
      "            <th style=\"text-align: right;\">Extra</th>\n",
      "            <td>Thèse de doctorat réalisée en cotutelle au Département de littératures et de langues du monde de l'Université de Montréal et à l'école doctorale 506 de l'Université Rennes 2. Cette thèse a été dirigée par Catherine Mavrikakis et Jean-Pierre Montier.</td>\n",
      "          </tr>\n",
      "          <tr class=\"language\">\n",
      "            <th style=\"text-align: right;\">Language</th>\n",
      "            <td>fr</td>\n",
      "          </tr>\n",
      "          <tr class=\"abstractNote\">\n",
      "            <th style=\"text-align: right;\">Abstract</th>\n",
      "            <td>Désormais, nous sommes tous photographes. Nos téléphones intelligents nous permettent de capter, de modifier et de partager nos clichés sur les réseaux en moins d’une minute, tant et si bien que l’image photographique est devenue une nouvelle forme de langage. Réciproquement, serions-nous également tous écrivains ? Il existe en effet une véritable légitimité historique à penser que la notion d'écrivain, comme celle de photographe, s'étend le long d'un paradigme allant de la « simple » possession d'une aptitude technique jusqu'à la gloire des plus fortes figures de la vie culturelle collective. Cette thèse vise à déterminer comment se constitue une nouvelle mythologie de l’image photographique à l’ère du numérique, comprenant aussi bien la réévaluation du médium argentique vieillissant que l’intégration d’un imaginaire propre à ces technologies dont nous n’avons pas encore achevé de mesurer l’impact culturel sur nos sociétés. À cet égard, la perspective littéraire est riche d’enseignements en termes culturels, esthétiques ou même ontologiques, puisque la littérature, en sa qualité de relais du fait photographique depuis près de deux siècles, a pleinement participé à son invention : c’est là du moins l’hypothèse de la photolittérature. En cette période de transition technologique majeure, il nous revient de cerner les nouvelles inventions littéraires de la photographie, pour comprendre aussi bien les enjeux contemporains du fait photographique que ceux de la littérature.\n",
      "Nowadays, we are all photographers. Our smart phones allow us to take, edit and share our snapshots on social media in less than a minute, to the extent that the photographic image has become a new form of language. Reciprocally, have we all become writers as well? There truly is historical legitimacy in seeing the notion of the writer, like that of the photographer, as spanning a paradigmal spectrum, running from “simple” possession of technical aptitude, to the glory of the loftiest figures in our collective cultural life. This thesis aims to determine how the new mythology around the photographic image takes shape in the digital age, while also re-evaluating the aging medium of film, as well as integrating a newly imagined sphere of ideas surrounding these new technologies, for which we have yet to measure the cultural impact on our societies. In this respect, a literary perspective is rich in cultural and even ontological lessons, since literature has interacted with photography for nearly two centuries, and thus contributed to its invention : this is at least the central hypothesis of photoliterature. In this period of major technological transition, we must therefore identify photography’s new literary inventions, so that we can better understand the contemporary issues surrounding both the worlds of photography and literature.</td>\n",
      "          </tr>\n",
      "          <tr class=\"numPages\">\n",
      "            <th style=\"text-align: right;\"># of Pages</th>\n",
      "            <td>477</td>\n",
      "          </tr>\n",
      "        </table>\n"
     ]
    }
   ],
   "source": [
    "# Je peux ajouter des paramètres à mes items comme le format de sortie (hmtl)\n",
    "items = bibliographie.top(limit=None, content=\"html\", style=\"mla\", linkwrap=1)\n",
    "\n",
    "print(items[2])\n",
    "    "
   ]
  },
  {
   "cell_type": "code",
   "execution_count": 3,
   "id": "4bcf8840",
   "metadata": {},
   "outputs": [
    {
     "name": "stdout",
     "output_type": "stream",
     "text": [
      "Item Type: book | Titre: Media do not exist \n",
      "\n",
      "Item Type: journalArticle | Titre: Design de la conversation scientifique : naissance d’un format éditorial \n",
      "\n",
      "Item Type: book | Titre: La littérature à l’ère photographique : mutations, novations, enjeux : de l’argentique au numérique \n",
      "\n",
      "Item Type: book | Titre: Égarements. Amour, mort et identités numériques \n",
      "\n",
      "Item Type: bookSection | Titre: Lire, écrire et partager en numérique \n",
      "\n"
     ]
    }
   ],
   "source": [
    "# Je peux également choisir quelles informations sont importantes pour moi à l'affichage \n",
    "items = bibliographie.top(limit=None)\n",
    "\n",
    "# Pour chaque item \n",
    "for item in items:\n",
    "    # je souhaite le type d'item et le titre édité ainsi :\n",
    "    # le \\n permet de sauter une ligne\n",
    "    print('Item Type: %s | Titre: %s \\n' % (item['data']['itemType'], item['data']['title']))"
   ]
  },
  {
   "cell_type": "markdown",
   "id": "6b3509f4",
   "metadata": {},
   "source": [
    "### *Jouer* avec les tags\n",
    "\n",
    "On va maintenant s'intéresser aux tags ajoutés aux références. \n",
    "On peut déjà lister les tags qui sont présents dans la bibliographie. "
   ]
  },
  {
   "cell_type": "code",
   "execution_count": 4,
   "id": "2924b724",
   "metadata": {},
   "outputs": [
    {
     "name": "stdout",
     "output_type": "stream",
     "text": [
      "['Revue', 'Conversation', 'Partage', 'Edition', 'Production des contenus', 'Circulation des contenus', 'Conjonctures médiatrices', 'Légitimation des contenus', 'Détournement', 'Intermédialité', 'Littérature', 'Médias', 'Performativité', 'Pratiques intermédiales', 'Privé / public', 'Profils et identités numériques', 'virtuel', 'Imaginaire-réel', 'Philosophie']\n",
      "\n",
      " Il y a 19 tags dans ma bibliographie\n"
     ]
    }
   ],
   "source": [
    "# Pour cela, je peux utiliser une fonctionnalité de pyzotero qui va récupérer tous les tags\n",
    "zotero.Zotero.tags(bibliographie)\n",
    "\n",
    "# Je lui demande d'imprimer la liste des tags\n",
    "print(zotero.Zotero.tags(bibliographie))\n",
    "\n",
    "# Je peux aussi lui demander de les compter pour moi et d'afficher le nombre de tags \n",
    "print(f\"\\n Il y a {len(zotero.Zotero.tags(bibliographie))} tags dans ma bibliographie\")"
   ]
  },
  {
   "cell_type": "code",
   "execution_count": 5,
   "id": "06188848",
   "metadata": {},
   "outputs": [
    {
     "data": {
      "text/plain": [
       "[('Edition', 3),\n",
       " ('Intermédialité', 2),\n",
       " ('Médias', 2),\n",
       " ('Performativité', 2),\n",
       " ('Pratiques intermédiales', 2),\n",
       " ('Imaginaire-réel', 2),\n",
       " ('Circulation des contenus', 1),\n",
       " ('Conjonctures médiatrices', 1),\n",
       " ('Légitimation des contenus', 1),\n",
       " ('Production des contenus', 1),\n",
       " ('Conversation', 1),\n",
       " ('Revue', 1),\n",
       " ('Détournement', 1),\n",
       " ('Littérature', 1),\n",
       " ('Philosophie', 1),\n",
       " ('Privé / public', 1),\n",
       " ('Profils et identités numériques', 1),\n",
       " ('virtuel', 1),\n",
       " ('Partage', 1)]"
      ]
     },
     "execution_count": 5,
     "metadata": {},
     "output_type": "execute_result"
    }
   ],
   "source": [
    "# Je peux également extraire les tags pour en faire une liste \n",
    "items= bibliographie.top(limit=None)\n",
    "\n",
    "# Pour cela, je créé une liste vide pour y placer tous les occurences de tags de la bibliographie\n",
    "liste_tags = []\n",
    "\n",
    "# Pour chaque item dans ma bibliographie\n",
    "for item in items: \n",
    "    # je lui demande d'ajouter la valeur du tag contenu dans tags, data d'items\n",
    "    liste_tags.extend([t.get(\"tag\") for t in item[\"data\"][\"tags\"]])\n",
    "\n",
    "# J'importe ensuite la library Counter qui compte les occurences\n",
    "from collections import Counter\n",
    "# Je place ma liste dans cette fonction de compte\n",
    "Counter(liste_tags)\n",
    "\n",
    "# Mais je souhaite aussi que la liste me sorte dans l'ordre croissant \n",
    "# alors je créé une valeur qui englobe le décompte de mes tags\n",
    "frequence_tags = Counter(liste_tags)\n",
    "# et choisis l'option \"most_common\"\n",
    "frequence_tags.most_common()\n",
    "\n",
    "# Je aussi en plaçant un chiffre à l'intérieur des parenthèses sélectionner les plus communs \n",
    "# frequence_tags.most_common(3) me donnera les 3 plus communs\n",
    "# frequence_tags.most_common()[-2:] à l'inverse me donnera les 2 deux derniers les moins communs"
   ]
  },
  {
   "cell_type": "code",
   "execution_count": 6,
   "id": "027356b0",
   "metadata": {},
   "outputs": [
    {
     "name": "stdout",
     "output_type": "stream",
     "text": [
      "Revue in : Design de la conversation scientifique : naissance d’un format éditorial\n",
      "Conversation in : Design de la conversation scientifique : naissance d’un format éditorial\n",
      "Partage in : Lire, écrire et partager en numérique\n",
      "Edition in : Design de la conversation scientifique : naissance d’un format éditorial\n",
      "Edition in : La littérature à l’ère photographique : mutations, novations, enjeux : de l’argentique au numérique\n",
      "Edition in : Lire, écrire et partager en numérique\n",
      "Production des contenus in : Media do not exist\n",
      "Circulation des contenus in : Media do not exist\n",
      "Conjonctures médiatrices in : Media do not exist\n",
      "Légitimation des contenus in : Media do not exist\n",
      "Détournement in : La littérature à l’ère photographique : mutations, novations, enjeux : de l’argentique au numérique\n",
      "Intermédialité in : Media do not exist\n",
      "Intermédialité in : La littérature à l’ère photographique : mutations, novations, enjeux : de l’argentique au numérique\n",
      "Littérature in : La littérature à l’ère photographique : mutations, novations, enjeux : de l’argentique au numérique\n",
      "Médias in : Media do not exist\n",
      "Médias in : La littérature à l’ère photographique : mutations, novations, enjeux : de l’argentique au numérique\n",
      "Performativité in : Media do not exist\n",
      "Performativité in : La littérature à l’ère photographique : mutations, novations, enjeux : de l’argentique au numérique\n",
      "Pratiques intermédiales in : Media do not exist\n",
      "Pratiques intermédiales in : La littérature à l’ère photographique : mutations, novations, enjeux : de l’argentique au numérique\n",
      "Privé / public in : Égarements. Amour, mort et identités numériques\n",
      "Profils et identités numériques in : Égarements. Amour, mort et identités numériques\n",
      "virtuel in : Égarements. Amour, mort et identités numériques\n",
      "Imaginaire-réel in : La littérature à l’ère photographique : mutations, novations, enjeux : de l’argentique au numérique\n",
      "Imaginaire-réel in : Égarements. Amour, mort et identités numériques\n",
      "Philosophie in : Égarements. Amour, mort et identités numériques\n"
     ]
    }
   ],
   "source": [
    "# Je peux afficher mes références selon les tags qui leurs sont assignés. \n",
    "# Je définis ma valeur tags\n",
    "tags = zotero.Zotero.tags(bibliographie)\n",
    "\n",
    "items = bibliographie.top(limit=None)\n",
    "\n",
    "# Dans tags, pour chaque tag : \n",
    "for tag in tags: \n",
    "    # pour chaque item\n",
    "    for item in items:\n",
    "        # je créé une liste des tags dans items pour l'interroger plus facilement \n",
    "        # je lui dis : va me chercher la valeur qui correspond à \"tag\" dans \"data\", \"tags\" d'item\n",
    "        # ces valeurs vont être listées dans liste_tags\n",
    "        liste_tags = [t.get(\"tag\") for t in item[\"data\"][\"tags\"]]\n",
    "        # si un tag est présent dans la liste des tags\n",
    "        if tag in liste_tags:\n",
    "            # alors affiche moi le tag en question et la référence qui y est associée\n",
    "            print(f\"{tag} in : {item['data']['title']}\")"
   ]
  },
  {
   "cell_type": "markdown",
   "id": "5b0c4be2",
   "metadata": {},
   "source": [
    "### Créer des dictionnaires\n",
    "\n",
    "Maintenant je veux pouvoir visualiser les liens qui existent entre les références par les tags. Pour cela il faut que mes informations soient structurées en dictionnaires qui est un type de collection que je peux interroger. "
   ]
  },
  {
   "cell_type": "code",
   "execution_count": 8,
   "id": "79739af0",
   "metadata": {},
   "outputs": [
    {
     "name": "stdout",
     "output_type": "stream",
     "text": [
      "defaultdict(<class 'list'>, {'Media do not exist': [('Media do not exist', [{'creatorType': 'author', 'firstName': 'Marcello', 'lastName': 'Vitali-Rosati'}, {'creatorType': 'author', 'firstName': 'Jean-Marc', 'lastName': 'Larrue'}], '2019', [{'tag': 'Circulation des contenus'}, {'tag': 'Conjonctures médiatrices'}, {'tag': 'Intermédialité'}, {'tag': 'Légitimation des contenus'}, {'tag': 'Médias'}, {'tag': 'Performativité'}, {'tag': 'Pratiques intermédiales'}, {'tag': 'Production des contenus'}])], 'Design de la conversation scientifique : naissance d’un format éditorial': [('Design de la conversation scientifique : naissance d’un format éditorial', [{'creatorType': 'author', 'firstName': 'Nicolas', 'lastName': 'Sauret'}], '2018-12-14', [{'tag': 'Conversation'}, {'tag': 'Edition'}, {'tag': 'Revue'}])], 'La littérature à l’ère photographique : mutations, novations, enjeux : de l’argentique au numérique': [('La littérature à l’ère photographique : mutations, novations, enjeux : de l’argentique au numérique', [{'creatorType': 'author', 'firstName': 'Servanne', 'lastName': 'Monjour'}], '2016', [{'tag': 'Détournement'}, {'tag': 'Edition'}, {'tag': 'Imaginaire-réel'}, {'tag': 'Intermédialité'}, {'tag': 'Littérature'}, {'tag': 'Médias'}, {'tag': 'Performativité'}, {'tag': 'Pratiques intermédiales'}])], 'Égarements. Amour, mort et identités numériques': [('Égarements. Amour, mort et identités numériques', [{'creatorType': 'author', 'firstName': 'Marcello', 'lastName': 'Vitali-Rosati'}], '2014', [{'tag': 'Imaginaire-réel'}, {'tag': 'Philosophie'}, {'tag': 'Privé / public'}, {'tag': 'Profils et identités numériques'}, {'tag': 'virtuel'}])], 'Lire, écrire et partager en numérique': [('Lire, écrire et partager en numérique', [{'creatorType': 'editor', 'firstName': 'Catherine', 'lastName': 'Lenoble'}, {'creatorType': 'author', 'firstName': 'Antoine', 'lastName': 'Fauchié'}], '2014', [{'tag': 'Edition'}, {'tag': 'Partage'}])]})\n"
     ]
    }
   ],
   "source": [
    "# Je vais alors ici utiliser une library vraiment utile : elle me permet de\n",
    "# définir de quel type vont être par défaut les éléments qui vont composer mon dictionnaire\n",
    "# exemple : si je lui dit \"defaultdict(int)\" je lui indique que je veux une liste d'integer\n",
    "# cela permet d'éviter des lignes de \"if\" et de complications\n",
    "from collections import defaultdict\n",
    "\n",
    "# Je vais faire un premier dictionnaire qui contient mes références : \n",
    "dict_ref = defaultdict(list)\n",
    "\n",
    "# Je vais aller chercher les informations référence par référence\n",
    "for item in items:\n",
    "    #print(item[\"data\"]) pour vérifier comment sont structurées mes informations à la base\n",
    "    \n",
    "    # je lui informe l'emplacement des données qui m'intéressent\n",
    "    data = item[\"data\"]\n",
    "    title = data[\"title\"]    \n",
    "\n",
    "    # Avec les doubles parenthèses (on peut mettre aussi des crochets)\n",
    "    # on peut ainsi mettre plus d'un argument à l'append\n",
    "    # et ici je veux que mon dictionnaire se compose du titre, de l'auteur, de la date, etc.\n",
    "    dict_ref[title].append((item[\"data\"][\"title\"], item[\"data\"][\"creators\"], item[\"data\"][\"date\"], item[\"data\"][\"tags\"]))\n",
    "\n",
    "print(dict_ref)"
   ]
  },
  {
   "cell_type": "code",
   "execution_count": 9,
   "id": "254c4309",
   "metadata": {},
   "outputs": [
    {
     "name": "stdout",
     "output_type": "stream",
     "text": [
      "defaultdict(<class 'list'>, {'Circulation des contenus': [('Media do not exist', [{'creatorType': 'author', 'firstName': 'Marcello', 'lastName': 'Vitali-Rosati'}, {'creatorType': 'author', 'firstName': 'Jean-Marc', 'lastName': 'Larrue'}], '2019')], 'Conjonctures médiatrices': [('Media do not exist', [{'creatorType': 'author', 'firstName': 'Marcello', 'lastName': 'Vitali-Rosati'}, {'creatorType': 'author', 'firstName': 'Jean-Marc', 'lastName': 'Larrue'}], '2019')], 'Intermédialité': [('Media do not exist', [{'creatorType': 'author', 'firstName': 'Marcello', 'lastName': 'Vitali-Rosati'}, {'creatorType': 'author', 'firstName': 'Jean-Marc', 'lastName': 'Larrue'}], '2019'), ('La littérature à l’ère photographique : mutations, novations, enjeux : de l’argentique au numérique', [{'creatorType': 'author', 'firstName': 'Servanne', 'lastName': 'Monjour'}], '2016')], 'Légitimation des contenus': [('Media do not exist', [{'creatorType': 'author', 'firstName': 'Marcello', 'lastName': 'Vitali-Rosati'}, {'creatorType': 'author', 'firstName': 'Jean-Marc', 'lastName': 'Larrue'}], '2019')], 'Médias': [('Media do not exist', [{'creatorType': 'author', 'firstName': 'Marcello', 'lastName': 'Vitali-Rosati'}, {'creatorType': 'author', 'firstName': 'Jean-Marc', 'lastName': 'Larrue'}], '2019'), ('La littérature à l’ère photographique : mutations, novations, enjeux : de l’argentique au numérique', [{'creatorType': 'author', 'firstName': 'Servanne', 'lastName': 'Monjour'}], '2016')], 'Performativité': [('Media do not exist', [{'creatorType': 'author', 'firstName': 'Marcello', 'lastName': 'Vitali-Rosati'}, {'creatorType': 'author', 'firstName': 'Jean-Marc', 'lastName': 'Larrue'}], '2019'), ('La littérature à l’ère photographique : mutations, novations, enjeux : de l’argentique au numérique', [{'creatorType': 'author', 'firstName': 'Servanne', 'lastName': 'Monjour'}], '2016')], 'Pratiques intermédiales': [('Media do not exist', [{'creatorType': 'author', 'firstName': 'Marcello', 'lastName': 'Vitali-Rosati'}, {'creatorType': 'author', 'firstName': 'Jean-Marc', 'lastName': 'Larrue'}], '2019'), ('La littérature à l’ère photographique : mutations, novations, enjeux : de l’argentique au numérique', [{'creatorType': 'author', 'firstName': 'Servanne', 'lastName': 'Monjour'}], '2016')], 'Production des contenus': [('Media do not exist', [{'creatorType': 'author', 'firstName': 'Marcello', 'lastName': 'Vitali-Rosati'}, {'creatorType': 'author', 'firstName': 'Jean-Marc', 'lastName': 'Larrue'}], '2019')], 'Conversation': [('Design de la conversation scientifique : naissance d’un format éditorial', [{'creatorType': 'author', 'firstName': 'Nicolas', 'lastName': 'Sauret'}], '2018-12-14')], 'Edition': [('Design de la conversation scientifique : naissance d’un format éditorial', [{'creatorType': 'author', 'firstName': 'Nicolas', 'lastName': 'Sauret'}], '2018-12-14'), ('La littérature à l’ère photographique : mutations, novations, enjeux : de l’argentique au numérique', [{'creatorType': 'author', 'firstName': 'Servanne', 'lastName': 'Monjour'}], '2016'), ('Lire, écrire et partager en numérique', [{'creatorType': 'editor', 'firstName': 'Catherine', 'lastName': 'Lenoble'}, {'creatorType': 'author', 'firstName': 'Antoine', 'lastName': 'Fauchié'}], '2014')], 'Revue': [('Design de la conversation scientifique : naissance d’un format éditorial', [{'creatorType': 'author', 'firstName': 'Nicolas', 'lastName': 'Sauret'}], '2018-12-14')], 'Détournement': [('La littérature à l’ère photographique : mutations, novations, enjeux : de l’argentique au numérique', [{'creatorType': 'author', 'firstName': 'Servanne', 'lastName': 'Monjour'}], '2016')], 'Imaginaire-réel': [('La littérature à l’ère photographique : mutations, novations, enjeux : de l’argentique au numérique', [{'creatorType': 'author', 'firstName': 'Servanne', 'lastName': 'Monjour'}], '2016'), ('Égarements. Amour, mort et identités numériques', [{'creatorType': 'author', 'firstName': 'Marcello', 'lastName': 'Vitali-Rosati'}], '2014')], 'Littérature': [('La littérature à l’ère photographique : mutations, novations, enjeux : de l’argentique au numérique', [{'creatorType': 'author', 'firstName': 'Servanne', 'lastName': 'Monjour'}], '2016')], 'Philosophie': [('Égarements. Amour, mort et identités numériques', [{'creatorType': 'author', 'firstName': 'Marcello', 'lastName': 'Vitali-Rosati'}], '2014')], 'Privé / public': [('Égarements. Amour, mort et identités numériques', [{'creatorType': 'author', 'firstName': 'Marcello', 'lastName': 'Vitali-Rosati'}], '2014')], 'Profils et identités numériques': [('Égarements. Amour, mort et identités numériques', [{'creatorType': 'author', 'firstName': 'Marcello', 'lastName': 'Vitali-Rosati'}], '2014')], 'virtuel': [('Égarements. Amour, mort et identités numériques', [{'creatorType': 'author', 'firstName': 'Marcello', 'lastName': 'Vitali-Rosati'}], '2014')], 'Partage': [('Lire, écrire et partager en numérique', [{'creatorType': 'editor', 'firstName': 'Catherine', 'lastName': 'Lenoble'}, {'creatorType': 'author', 'firstName': 'Antoine', 'lastName': 'Fauchié'}], '2014')]})\n"
     ]
    }
   ],
   "source": [
    "# Je vais faire un autre dictionnaire qui contient mes tags : \n",
    "dict_tags = defaultdict(list)\n",
    "\n",
    "# Je vais aller chercher les informations référence par référence\n",
    "for item in items:\n",
    "    \n",
    "    # Je lui donne l'emplacement \n",
    "    data = item[\"data\"]\n",
    "    \n",
    "    # Or comme les tags sont déjà ordonnés comme un dictionnaire, il faut que j'utilise la key \n",
    "    for tag in data[\"tags\"]: \n",
    "        key = tag[\"tag\"] \n",
    "        dict_tags[key].append((item[\"data\"][\"title\"], item[\"data\"][\"creators\"], item[\"data\"][\"date\"]))\n",
    "\n",
    "# Je peux préciser ma requête pour savoir quelles références ont le tag \"Edition\"\n",
    "print(dict_tags)"
   ]
  },
  {
   "cell_type": "code",
   "execution_count": 10,
   "id": "a1d8bca8",
   "metadata": {},
   "outputs": [
    {
     "name": "stdout",
     "output_type": "stream",
     "text": [
      "Circulation des contenus apparaît 1 fois \n",
      "Conjonctures médiatrices apparaît 1 fois \n",
      "Intermédialité apparaît 2 fois \n",
      "Légitimation des contenus apparaît 1 fois \n",
      "Médias apparaît 2 fois \n",
      "Performativité apparaît 2 fois \n",
      "Pratiques intermédiales apparaît 2 fois \n",
      "Production des contenus apparaît 1 fois \n",
      "Conversation apparaît 1 fois \n",
      "Edition apparaît 3 fois \n",
      "Revue apparaît 1 fois \n",
      "Détournement apparaît 1 fois \n",
      "Imaginaire-réel apparaît 2 fois \n",
      "Littérature apparaît 1 fois \n",
      "Philosophie apparaît 1 fois \n",
      "Privé / public apparaît 1 fois \n",
      "Profils et identités numériques apparaît 1 fois \n",
      "virtuel apparaît 1 fois \n",
      "Partage apparaît 1 fois \n"
     ]
    }
   ],
   "source": [
    "# Je peux savoir combien de fois les tags apparaissent \n",
    "for key, value in dict_tags.items():\n",
    "    #value = item[\"data\"][\"title\"]\n",
    "    print(f\"{key} apparaît {len(value)} fois \")\n",
    "    #print(f\"{len(value)} {key} \\n {value}\")"
   ]
  },
  {
   "cell_type": "code",
   "execution_count": 11,
   "id": "eeeb598f",
   "metadata": {},
   "outputs": [
    {
     "name": "stdout",
     "output_type": "stream",
     "text": [
      "('Media do not exist', [{'creatorType': 'author', 'firstName': 'Marcello', 'lastName': 'Vitali-Rosati'}, {'creatorType': 'author', 'firstName': 'Jean-Marc', 'lastName': 'Larrue'}], '2019', [{'tag': 'Circulation des contenus'}, {'tag': 'Conjonctures médiatrices'}, {'tag': 'Intermédialité'}, {'tag': 'Légitimation des contenus'}, {'tag': 'Médias'}, {'tag': 'Performativité'}, {'tag': 'Pratiques intermédiales'}, {'tag': 'Production des contenus'}])\n",
      "('Design de la conversation scientifique : naissance d’un format éditorial', [{'creatorType': 'author', 'firstName': 'Nicolas', 'lastName': 'Sauret'}], '2018-12-14', [{'tag': 'Conversation'}, {'tag': 'Edition'}, {'tag': 'Revue'}])\n",
      "('La littérature à l’ère photographique : mutations, novations, enjeux : de l’argentique au numérique', [{'creatorType': 'author', 'firstName': 'Servanne', 'lastName': 'Monjour'}], '2016', [{'tag': 'Détournement'}, {'tag': 'Edition'}, {'tag': 'Imaginaire-réel'}, {'tag': 'Intermédialité'}, {'tag': 'Littérature'}, {'tag': 'Médias'}, {'tag': 'Performativité'}, {'tag': 'Pratiques intermédiales'}])\n",
      "('Égarements. Amour, mort et identités numériques', [{'creatorType': 'author', 'firstName': 'Marcello', 'lastName': 'Vitali-Rosati'}], '2014', [{'tag': 'Imaginaire-réel'}, {'tag': 'Philosophie'}, {'tag': 'Privé / public'}, {'tag': 'Profils et identités numériques'}, {'tag': 'virtuel'}])\n",
      "('Lire, écrire et partager en numérique', [{'creatorType': 'editor', 'firstName': 'Catherine', 'lastName': 'Lenoble'}, {'creatorType': 'author', 'firstName': 'Antoine', 'lastName': 'Fauchié'}], '2014', [{'tag': 'Edition'}, {'tag': 'Partage'}])\n"
     ]
    }
   ],
   "source": [
    "# Je peux avoir la liste des références et leurs tags\n",
    "for key, value in dict_ref.items():\n",
    "    #value = value[\"data\"][\"tags\"]\n",
    "    #print(f\"{key} est associé à {len(value)} tags {value}\")\n",
    "    # print(f\"{len(value)} {key} \\n {value}\")\n",
    "    print(value[0])"
   ]
  },
  {
   "cell_type": "markdown",
   "id": "74da3866",
   "metadata": {},
   "source": [
    "### Créer une liste d'objets \n",
    "\n"
   ]
  },
  {
   "cell_type": "code",
   "execution_count": 12,
   "id": "83f3d42a",
   "metadata": {},
   "outputs": [],
   "source": [
    "# Les objets c'est mieux parce qu'on peut définir les entrées dans nos données\n",
    "class Reference:\n",
    "# on met une majuscule aux objets\n",
    "    def __init__(self, entry):\n",
    "        self.entry = entry \n",
    "        # la méthode de récupération brutale : \n",
    "        # self.title = entry[\"data\"][\"title\"]\n",
    "        # self.author = entry[\"data\"][\"creators\"]\n",
    "        # self.date = entry[\"data\"][\"date\"]\n",
    "        # self.type = entry[\"data\"][\"itemType\"]\n",
    "        # self.tags = [t.get(\"tag\") for t in entry[\"data\"][\"tags\"]]\n",
    "        # ou la méthode de récupération douce :\n",
    "        self.title = entry.get(\"data\", {}).get(\"title\", \"No title\").replace(\":\", \"-\")\n",
    "        #self.author = entry.get(\"data\", {}).get(\"creators\", \"No author\")\n",
    "        self.author = [f\"{t.get('firstName', 'No firstName')} {t.get('lastName', 'No lastName')}\" for t in entry.get(\"data\", {}).get(\"creators\", [])]\n",
    "        self.date = entry.get(\"data\", {}).get(\"date\", \"No date\")\n",
    "        self.type = entry.get(\"data\", {}).get(\"itemType\", \"No type\")\n",
    "        self.tags = [t.get(\"tag\") for t in entry.get(\"data\", {}).get(\"tags\", [])]\n",
    "        "
   ]
  },
  {
   "cell_type": "code",
   "execution_count": 13,
   "id": "1b201fe8",
   "metadata": {},
   "outputs": [
    {
     "name": "stdout",
     "output_type": "stream",
     "text": [
      "Media do not exist a 8 tags : Circulation des contenus, Conjonctures médiatrices, Intermédialité, Légitimation des contenus, Médias, Performativité, Pratiques intermédiales, Production des contenus\n",
      "Les auteur.e.s sont : Marcello Vitali-Rosati, Jean-Marc Larrue\n",
      "Design de la conversation scientifique - naissance d’un format éditorial a 3 tags : Conversation, Edition, Revue\n",
      "L'auteur.e est : Nicolas Sauret\n",
      "La littérature à l’ère photographique - mutations, novations, enjeux - de l’argentique au numérique a 8 tags : Détournement, Edition, Imaginaire-réel, Intermédialité, Littérature, Médias, Performativité, Pratiques intermédiales\n",
      "L'auteur.e est : Servanne Monjour\n",
      "Égarements. Amour, mort et identités numériques a 5 tags : Imaginaire-réel, Philosophie, Privé / public, Profils et identités numériques, virtuel\n",
      "L'auteur.e est : Marcello Vitali-Rosati\n",
      "Lire, écrire et partager en numérique a 2 tags : Edition, Partage\n",
      "Les auteur.e.s sont : Catherine Lenoble, Antoine Fauchié\n"
     ]
    }
   ],
   "source": [
    "for entry in bibliographie.top(limit=None):\n",
    "    reference = Reference(entry)\n",
    "    print(f\"{reference.title} a {len(reference.tags)} tags : {', '.join(reference.tags)}\")\n",
    "    print(\n",
    "        \"Les auteur.e.s sont :\" if len(reference.author) > 1 else \"L'auteur.e est :\"\n",
    "        , ', '.join(reference.author))\n",
    "    "
   ]
  },
  {
   "cell_type": "code",
   "execution_count": 14,
   "id": "f727627e",
   "metadata": {},
   "outputs": [
    {
     "name": "stdout",
     "output_type": "stream",
     "text": [
      "[<__main__.Reference object at 0x7fe278163e20>, <__main__.Reference object at 0x7fe278163610>, <__main__.Reference object at 0x7fe278163070>, <__main__.Reference object at 0x7fe278163820>, <__main__.Reference object at 0x7fe278163460>]\n"
     ]
    }
   ],
   "source": [
    "# on va faire une liste d'objet pour les refs \n",
    "liste_reference = []\n",
    "\n",
    "for entry in bibliographie.top(limit=None):\n",
    "    reference = Reference(entry)\n",
    "    liste_reference.append(reference)\n",
    "print(liste_reference)"
   ]
  },
  {
   "cell_type": "markdown",
   "id": "e1ccd3de",
   "metadata": {},
   "source": [
    "### Créer des visualisations des liens \n",
    "\n",
    "Le but est maintenant de parvenir à des visualisations/affichages de ces données. \n",
    "Pour cela je vais utiliser une library qui permet de faire des graphiques en python. "
   ]
  },
  {
   "cell_type": "code",
   "execution_count": 15,
   "id": "c4ccacd8",
   "metadata": {},
   "outputs": [
    {
     "data": {
      "image/svg+xml": [
       "<?xml version=\"1.0\" encoding=\"UTF-8\" standalone=\"no\"?>\n",
       "<!DOCTYPE svg PUBLIC \"-//W3C//DTD SVG 1.1//EN\"\n",
       " \"http://www.w3.org/Graphics/SVG/1.1/DTD/svg11.dtd\">\n",
       "<!-- Generated by graphviz version 2.43.0 (0)\n",
       " -->\n",
       "<!-- Title: G Pages: 1 -->\n",
       "<svg width=\"136pt\" height=\"131pt\"\n",
       " viewBox=\"0.00 0.00 135.69 131.00\" xmlns=\"http://www.w3.org/2000/svg\" xmlns:xlink=\"http://www.w3.org/1999/xlink\">\n",
       "<g id=\"graph0\" class=\"graph\" transform=\"scale(1 1) rotate(0) translate(4 127)\">\n",
       "<title>G</title>\n",
       "<polygon fill=\"white\" stroke=\"transparent\" points=\"-4,4 -4,-127 131.69,-127 131.69,4 -4,4\"/>\n",
       "<!-- Reference1 -->\n",
       "<g id=\"node1\" class=\"node\">\n",
       "<title>Reference1</title>\n",
       "<ellipse fill=\"none\" stroke=\"black\" cx=\"63.69\" cy=\"-105\" rx=\"63.89\" ry=\"18\"/>\n",
       "<text text-anchor=\"middle\" x=\"63.69\" y=\"-101.3\" font-family=\"Times,serif\" font-size=\"14.00\">Reference1</text>\n",
       "</g>\n",
       "<!-- Reference2 -->\n",
       "<g id=\"node2\" class=\"node\">\n",
       "<title>Reference2</title>\n",
       "<ellipse fill=\"none\" stroke=\"black\" cx=\"63.69\" cy=\"-18\" rx=\"63.89\" ry=\"18\"/>\n",
       "<text text-anchor=\"middle\" x=\"63.69\" y=\"-14.3\" font-family=\"Times,serif\" font-size=\"14.00\">Reference2</text>\n",
       "</g>\n",
       "<!-- Reference1&#45;&gt;Reference2 -->\n",
       "<g id=\"edge1\" class=\"edge\">\n",
       "<title>Reference1&#45;&gt;Reference2</title>\n",
       "<path fill=\"none\" stroke=\"black\" d=\"M63.69,-86.8C63.69,-75.16 63.69,-59.55 63.69,-46.24\"/>\n",
       "<polygon fill=\"black\" stroke=\"black\" points=\"67.19,-46.18 63.69,-36.18 60.19,-46.18 67.19,-46.18\"/>\n",
       "<text text-anchor=\"middle\" x=\"95.69\" y=\"-57.8\" font-family=\"Times,serif\" font-size=\"14.00\">lien &#45; tag</text>\n",
       "</g>\n",
       "</g>\n",
       "</svg>\n"
      ],
      "text/plain": [
       "<graphviz.graphs.Digraph at 0x7fe278163220>"
      ]
     },
     "execution_count": 15,
     "metadata": {},
     "output_type": "execute_result"
    }
   ],
   "source": [
    "# J'importe la library en question \n",
    "import graphviz \n",
    "\n",
    "# Exemple d'un graphique, je lui donne notamment le nom d'export\n",
    "exemple = graphviz.Digraph('G', filename='Test.gv')\n",
    "# Il est possible d'appeler d'autres types de graphique à partir de la librairie graphviz.\n",
    "\n",
    "# Je définis une première relation : \n",
    "# pour la suite, il n'est bien sûr pas question de faire les relations à la main une à une \n",
    "# mais de définir un code python qui le fasse automatiquement \n",
    "exemple.edge('Reference1', 'Reference2', label='lien - tag')\n",
    "\n",
    "exemple\n",
    "# \"exemple.view\" permet de télécharger le fichier."
   ]
  },
  {
   "cell_type": "markdown",
   "id": "95244e8e",
   "metadata": {},
   "source": [
    "Sur ce modèle, je vais maintenant représenter les liens entre les références par les tags de manière automatique : grâce à mes dictionnaires. "
   ]
  },
  {
   "cell_type": "code",
   "execution_count": 16,
   "id": "92b012f0",
   "metadata": {},
   "outputs": [
    {
     "data": {
      "image/svg+xml": [
       "<?xml version=\"1.0\" encoding=\"UTF-8\" standalone=\"no\"?>\n",
       "<!DOCTYPE svg PUBLIC \"-//W3C//DTD SVG 1.1//EN\"\n",
       " \"http://www.w3.org/Graphics/SVG/1.1/DTD/svg11.dtd\">\n",
       "<!-- Generated by graphviz version 2.43.0 (0)\n",
       " -->\n",
       "<!-- Title: %3 Pages: 1 -->\n",
       "<svg width=\"8pt\" height=\"8pt\"\n",
       " viewBox=\"0.00 0.00 8.00 8.00\" xmlns=\"http://www.w3.org/2000/svg\" xmlns:xlink=\"http://www.w3.org/1999/xlink\">\n",
       "<g id=\"graph0\" class=\"graph\" transform=\"scale(1 1) rotate(0) translate(4 4)\">\n",
       "<title>%3</title>\n",
       "<polygon fill=\"white\" stroke=\"transparent\" points=\"-4,4 -4,-4 4,-4 4,4 -4,4\"/>\n",
       "</g>\n",
       "</svg>\n"
      ],
      "text/plain": [
       "<graphviz.graphs.Digraph at 0x7fe261fdcfa0>"
      ]
     },
     "execution_count": 16,
     "metadata": {},
     "output_type": "execute_result"
    }
   ],
   "source": [
    "# Je peux créer mes modules à partir de ma liste objets de références\n",
    "# Je créé d'abord mon graphique\n",
    "network = graphviz.Digraph(filename=\"CCLA-Network.gv\")\n",
    "                           \n",
    "                           #node_attr={'color': 'lightblue2', 'style': 'filled', 'shape':'star'})\n",
    "#network.attr(size='6,6')\n",
    "\n",
    "# Pour chaque référence dans ma bibliographie \n",
    "#for reference in liste_reference:\n",
    "    # créé moi un module \n",
    "    #network.node(reference.title)\n",
    "\n",
    "\n",
    "# Affiche moi le résultat\n",
    "network"
   ]
  },
  {
   "cell_type": "code",
   "execution_count": 17,
   "id": "0c23a00f",
   "metadata": {},
   "outputs": [
    {
     "name": "stdout",
     "output_type": "stream",
     "text": [
      "('Intermédialité', 'La littérature à l’ère photographique - mutations, novations, enjeux - de l’argentique au numérique', 'Media do not exist')\n",
      "('La littérature à l’ère photographique - mutations, novations, enjeux - de l’argentique au numérique', 'Media do not exist', 'Médias')\n",
      "('La littérature à l’ère photographique - mutations, novations, enjeux - de l’argentique au numérique', 'Media do not exist', 'Performativité')\n",
      "('La littérature à l’ère photographique - mutations, novations, enjeux - de l’argentique au numérique', 'Media do not exist', 'Pratiques intermédiales')\n",
      "('Design de la conversation scientifique - naissance d’un format éditorial', 'Edition', 'La littérature à l’ère photographique - mutations, novations, enjeux - de l’argentique au numérique')\n",
      "('Design de la conversation scientifique - naissance d’un format éditorial', 'Edition', 'Lire, écrire et partager en numérique')\n",
      "('Imaginaire-réel', 'La littérature à l’ère photographique - mutations, novations, enjeux - de l’argentique au numérique', 'Égarements. Amour, mort et identités numériques')\n",
      "('Edition', 'La littérature à l’ère photographique - mutations, novations, enjeux - de l’argentique au numérique', 'Lire, écrire et partager en numérique')\n"
     ]
    },
    {
     "data": {
      "text/plain": [
       "'CCLA-Network.gv.pdf'"
      ]
     },
     "execution_count": 17,
     "metadata": {},
     "output_type": "execute_result"
    }
   ],
   "source": [
    "# Maintenant je dois lui dire de créer les relations entres les modules selon les tags \n",
    "\n",
    "already_existing_links = set()\n",
    "\n",
    "for reference1 in liste_reference: \n",
    "    for reference2 in liste_reference: \n",
    "        for tag1 in reference1.tags:\n",
    "            if reference1.title != reference2.title and tag1 in reference2.tags:\n",
    "                edge = tuple(sorted((reference1.title, reference2.title, tag1))) \n",
    "                if edge not in already_existing_links:\n",
    "                    network.edge(reference1.title, reference2.title, label = tag1, arrowhead=None)\n",
    "                    already_existing_links.add(edge)\n",
    "                    print(edge)\n",
    "        \n",
    "network\n",
    "network.view()"
   ]
  },
  {
   "cell_type": "code",
   "execution_count": 18,
   "id": "f7ec1daf",
   "metadata": {},
   "outputs": [
    {
     "ename": "TypeError",
     "evalue": "'<' not supported between instances of 'str' and 'list'",
     "output_type": "error",
     "traceback": [
      "\u001b[0;31m---------------------------------------------------------------------------\u001b[0m",
      "\u001b[0;31mTypeError\u001b[0m                                 Traceback (most recent call last)",
      "\u001b[0;32m/tmp/ipykernel_209714/882635189.py\u001b[0m in \u001b[0;36m<module>\u001b[0;34m\u001b[0m\n\u001b[1;32m     10\u001b[0m         \u001b[0;32mfor\u001b[0m \u001b[0mtag1\u001b[0m \u001b[0;32min\u001b[0m \u001b[0mreference1\u001b[0m\u001b[0;34m.\u001b[0m\u001b[0mtags\u001b[0m\u001b[0;34m:\u001b[0m\u001b[0;34m\u001b[0m\u001b[0;34m\u001b[0m\u001b[0m\n\u001b[1;32m     11\u001b[0m             \u001b[0;32mif\u001b[0m \u001b[0mreference1\u001b[0m\u001b[0;34m.\u001b[0m\u001b[0mauthor\u001b[0m \u001b[0;34m!=\u001b[0m \u001b[0mreference2\u001b[0m\u001b[0;34m.\u001b[0m\u001b[0mauthor\u001b[0m \u001b[0;32mand\u001b[0m \u001b[0mtag1\u001b[0m \u001b[0;32min\u001b[0m \u001b[0mreference2\u001b[0m\u001b[0;34m.\u001b[0m\u001b[0mtags\u001b[0m\u001b[0;34m:\u001b[0m\u001b[0;34m\u001b[0m\u001b[0;34m\u001b[0m\u001b[0m\n\u001b[0;32m---> 12\u001b[0;31m                 \u001b[0medge\u001b[0m \u001b[0;34m=\u001b[0m \u001b[0mtuple\u001b[0m\u001b[0;34m(\u001b[0m\u001b[0msorted\u001b[0m\u001b[0;34m(\u001b[0m\u001b[0;34m(\u001b[0m\u001b[0mreference1\u001b[0m\u001b[0;34m.\u001b[0m\u001b[0mauthor\u001b[0m\u001b[0;34m,\u001b[0m \u001b[0mreference2\u001b[0m\u001b[0;34m.\u001b[0m\u001b[0mauthor\u001b[0m\u001b[0;34m,\u001b[0m \u001b[0mtag1\u001b[0m\u001b[0;34m)\u001b[0m\u001b[0;34m)\u001b[0m\u001b[0;34m)\u001b[0m\u001b[0;34m\u001b[0m\u001b[0;34m\u001b[0m\u001b[0m\n\u001b[0m\u001b[1;32m     13\u001b[0m                 \u001b[0;32mif\u001b[0m \u001b[0medge\u001b[0m \u001b[0;32mnot\u001b[0m \u001b[0;32min\u001b[0m \u001b[0malready_existing_links\u001b[0m\u001b[0;34m:\u001b[0m\u001b[0;34m\u001b[0m\u001b[0;34m\u001b[0m\u001b[0m\n\u001b[1;32m     14\u001b[0m                     \u001b[0mnetwork\u001b[0m\u001b[0;34m.\u001b[0m\u001b[0medge\u001b[0m\u001b[0;34m(\u001b[0m\u001b[0mreference1\u001b[0m\u001b[0;34m.\u001b[0m\u001b[0mauthor\u001b[0m\u001b[0;34m,\u001b[0m \u001b[0mreference2\u001b[0m\u001b[0;34m.\u001b[0m\u001b[0mauthor\u001b[0m\u001b[0;34m,\u001b[0m \u001b[0mlabel\u001b[0m \u001b[0;34m=\u001b[0m \u001b[0mtag1\u001b[0m\u001b[0;34m,\u001b[0m \u001b[0marrowhead\u001b[0m\u001b[0;34m=\u001b[0m\u001b[0;32mNone\u001b[0m\u001b[0;34m)\u001b[0m\u001b[0;34m\u001b[0m\u001b[0;34m\u001b[0m\u001b[0m\n",
      "\u001b[0;31mTypeError\u001b[0m: '<' not supported between instances of 'str' and 'list'"
     ]
    }
   ],
   "source": [
    "# Maintenant un graph pour visualiser les liens entre auteurs selon les références \n",
    "\n",
    "# Mais je dois lui dire de créer les relations entres les modules selon les tags \n",
    "\n",
    "\n",
    "already_existing_links = set()\n",
    "\n",
    "for reference1 in liste_reference: \n",
    "    for reference2 in liste_reference: \n",
    "        for tag1 in reference1.tags:\n",
    "            if reference1.author != reference2.author and tag1 in reference2.tags:\n",
    "                edge = tuple(sorted((reference1.author, reference2.author, tag1))) \n",
    "                if edge not in already_existing_links:\n",
    "                    network.edge(reference1.author, reference2.author, label = tag1, arrowhead=None)\n",
    "                    already_existing_links.add(edge)\n",
    "                    print(edge)\n",
    "        \n",
    "network\n",
    "network.view()"
   ]
  },
  {
   "cell_type": "code",
   "execution_count": null,
   "id": "02e7f079",
   "metadata": {},
   "outputs": [],
   "source": []
  }
 ],
 "metadata": {
  "kernelspec": {
   "display_name": "Python 3 (ipykernel)",
   "language": "python",
   "name": "python3"
  },
  "language_info": {
   "codemirror_mode": {
    "name": "ipython",
    "version": 3
   },
   "file_extension": ".py",
   "mimetype": "text/x-python",
   "name": "python",
   "nbconvert_exporter": "python",
   "pygments_lexer": "ipython3",
   "version": "3.8.10"
  }
 },
 "nbformat": 4,
 "nbformat_minor": 5
}
